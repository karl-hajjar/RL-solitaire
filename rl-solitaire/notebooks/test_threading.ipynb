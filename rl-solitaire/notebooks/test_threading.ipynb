{
 "cells": [
  {
   "cell_type": "code",
   "execution_count": 1,
   "id": "6800c02a-6b44-40f1-b81b-a9adb8e282f3",
   "metadata": {},
   "outputs": [],
   "source": [
    "%load_ext autoreload\n",
    "%autoreload 2\n",
    "#%matplotlib notebook\n",
    "%matplotlib inline"
   ]
  },
  {
   "cell_type": "code",
   "execution_count": 2,
   "id": "4b9504c7-50c7-40b8-abf2-367f969743c9",
   "metadata": {},
   "outputs": [],
   "source": [
    "import sys\n",
    "import os\n",
    "\n",
    "ROOT = os.path.dirname(os.getcwd())\n",
    "sys.path.append(ROOT)"
   ]
  },
  {
   "cell_type": "code",
   "execution_count": 3,
   "id": "b0d91fd3-ad37-4c88-b3a5-2db7e72fa6a7",
   "metadata": {},
   "outputs": [],
   "source": [
    "from env.env import Env\n",
    "from agents.random_agent import RandomAgent\n",
    "from utils.tools import set_random_seeds\n",
    "\n",
    "from multiprocessing.dummy import Pool as ThreadPool\n",
    "from copy import deepcopy"
   ]
  },
  {
   "cell_type": "code",
   "execution_count": 4,
   "id": "9049a940-6bdc-4dab-9d11-40950d9a5125",
   "metadata": {},
   "outputs": [],
   "source": [
    "SEED = 42\n",
    "set_random_seeds(SEED)"
   ]
  },
  {
   "cell_type": "code",
   "execution_count": 5,
   "id": "9f0a25a8-02cf-405b-8314-9c9b350d16ef",
   "metadata": {},
   "outputs": [],
   "source": [
    "agent = RandomAgent()"
   ]
  },
  {
   "cell_type": "code",
   "execution_count": 6,
   "id": "90329084-ea6e-4cb3-beb3-aaeb6805d312",
   "metadata": {},
   "outputs": [],
   "source": [
    "N_GAMES = 50\n",
    "T = 30"
   ]
  },
  {
   "cell_type": "code",
   "execution_count": 7,
   "id": "1a452eec-08fc-45f9-89c0-7d30d8cc915e",
   "metadata": {},
   "outputs": [
    {
     "name": "stdout",
     "output_type": "stream",
     "text": [
      "311 ms ± 10.1 ms per loop (mean ± std. dev. of 20 runs, 15 loops each)\n"
     ]
    }
   ],
   "source": [
    "%%timeit -n15 -r20\n",
    "env = Env()\n",
    "env.reset()\n",
    "envs  = [deepcopy(env) for _ in range(N_GAMES)]\n",
    "data = [data_ for env_ in envs for data_ in agent.collect_data(env_, T=T)]"
   ]
  },
  {
   "cell_type": "code",
   "execution_count": 8,
   "id": "3fef2289-376d-475e-a381-c08db2355a9a",
   "metadata": {},
   "outputs": [
    {
     "name": "stdout",
     "output_type": "stream",
     "text": [
      "295 ms ± 3.13 ms per loop (mean ± std. dev. of 20 runs, 15 loops each)\n"
     ]
    }
   ],
   "source": [
    "%%timeit -n15 -r20\n",
    "env = Env()\n",
    "data = []\n",
    "for _ in range(N_GAMES):\n",
    "    env.reset()\n",
    "    data += agent.collect_data(env, T=T)"
   ]
  },
  {
   "cell_type": "code",
   "execution_count": 9,
   "id": "e5656ac3-9624-47db-878c-006505877bc3",
   "metadata": {},
   "outputs": [
    {
     "name": "stdout",
     "output_type": "stream",
     "text": [
      "336 ms ± 2.64 ms per loop (mean ± std. dev. of 20 runs, 15 loops each)\n"
     ]
    }
   ],
   "source": [
    "%%timeit -n15 -r20\n",
    "env = Env()\n",
    "env.reset()\n",
    "pool = ThreadPool(2)\n",
    "envs  = [deepcopy(env) for _ in range(N_GAMES)]\n",
    "data = pool.map(lambda x: agent.collect_data(x, T=T), envs)"
   ]
  },
  {
   "cell_type": "code",
   "execution_count": null,
   "id": "a84dad01-cc24-47fa-af80-0f67cfbc066f",
   "metadata": {},
   "outputs": [],
   "source": []
  },
  {
   "cell_type": "code",
   "execution_count": null,
   "id": "6c0f6a3c-c174-423a-8a7f-91be9db2f83b",
   "metadata": {},
   "outputs": [],
   "source": []
  },
  {
   "cell_type": "code",
   "execution_count": null,
   "id": "954744dc-a482-489d-883d-ffb53daf04fa",
   "metadata": {},
   "outputs": [],
   "source": []
  },
  {
   "cell_type": "code",
   "execution_count": null,
   "id": "a74fd01f-fac5-4206-b6d2-51cf5844650d",
   "metadata": {},
   "outputs": [],
   "source": []
  },
  {
   "cell_type": "code",
   "execution_count": null,
   "id": "19d86704-8b1b-4650-b7b3-9625d203f817",
   "metadata": {},
   "outputs": [],
   "source": []
  }
 ],
 "metadata": {
  "kernelspec": {
   "display_name": "Python 3 (ipykernel)",
   "language": "python",
   "name": "python3"
  },
  "language_info": {
   "codemirror_mode": {
    "name": "ipython",
    "version": 3
   },
   "file_extension": ".py",
   "mimetype": "text/x-python",
   "name": "python",
   "nbconvert_exporter": "python",
   "pygments_lexer": "ipython3",
   "version": "3.9.13"
  }
 },
 "nbformat": 4,
 "nbformat_minor": 5
}

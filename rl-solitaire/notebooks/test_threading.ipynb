{
 "cells": [
  {
   "cell_type": "code",
   "execution_count": 1,
   "id": "6800c02a-6b44-40f1-b81b-a9adb8e282f3",
   "metadata": {},
   "outputs": [],
   "source": [
    "%load_ext autoreload\n",
    "%autoreload 2\n",
    "#%matplotlib notebook\n",
    "%matplotlib inline"
   ]
  },
  {
   "cell_type": "code",
   "execution_count": 2,
   "id": "4b9504c7-50c7-40b8-abf2-367f969743c9",
   "metadata": {},
   "outputs": [],
   "source": [
    "import sys\n",
    "import os\n",
    "\n",
    "ROOT = os.path.dirname(os.getcwd())\n",
    "sys.path.append(ROOT)"
   ]
  },
  {
   "cell_type": "code",
   "execution_count": 3,
   "id": "b0d91fd3-ad37-4c88-b3a5-2db7e72fa6a7",
   "metadata": {},
   "outputs": [],
   "source": [
    "from env.env import Env\n",
    "from agents.random_agent import RandomAgent\n",
    "from utils.tools import set_random_seeds\n",
    "\n",
    "from multiprocessing.dummy import Pool as ThreadPool\n",
    "from copy import deepcopy"
   ]
  },
  {
   "cell_type": "code",
   "execution_count": 4,
   "id": "9049a940-6bdc-4dab-9d11-40950d9a5125",
   "metadata": {},
   "outputs": [],
   "source": [
    "SEED = 42\n",
    "set_random_seeds(SEED)"
   ]
  },
  {
   "cell_type": "code",
   "execution_count": 5,
   "id": "9f0a25a8-02cf-405b-8314-9c9b350d16ef",
   "metadata": {},
   "outputs": [],
   "source": [
    "agent = RandomAgent()"
   ]
  },
  {
   "cell_type": "code",
   "execution_count": 6,
   "id": "90329084-ea6e-4cb3-beb3-aaeb6805d312",
   "metadata": {},
   "outputs": [],
   "source": [
    "N_GAMES = 50\n",
    "T = 30"
   ]
  },
  {
   "cell_type": "code",
   "execution_count": 7,
   "id": "1a452eec-08fc-45f9-89c0-7d30d8cc915e",
   "metadata": {},
   "outputs": [
    {
     "name": "stdout",
     "output_type": "stream",
     "text": [
      "311 ms ± 10.1 ms per loop (mean ± std. dev. of 20 runs, 15 loops each)\n"
     ]
    }
   ],
   "source": [
    "%%timeit -n15 -r20\n",
    "env = Env()\n",
    "env.reset()\n",
    "envs  = [deepcopy(env) for _ in range(N_GAMES)]\n",
    "data = [data_ for env_ in envs for data_ in agent.collect_data(env_, T=T)]"
   ]
  },
  {
   "cell_type": "code",
   "execution_count": 8,
   "id": "3fef2289-376d-475e-a381-c08db2355a9a",
   "metadata": {},
   "outputs": [
    {
     "name": "stdout",
     "output_type": "stream",
     "text": [
      "295 ms ± 3.13 ms per loop (mean ± std. dev. of 20 runs, 15 loops each)\n"
     ]
    }
   ],
   "source": [
    "%%timeit -n15 -r20\n",
    "env = Env()\n",
    "data = []\n",
    "for _ in range(N_GAMES):\n",
    "    env.reset()\n",
    "    data += agent.collect_data(env, T=T)"
   ]
  },
  {
   "cell_type": "code",
   "execution_count": 9,
   "id": "e5656ac3-9624-47db-878c-006505877bc3",
   "metadata": {},
   "outputs": [
    {
     "name": "stdout",
     "output_type": "stream",
     "text": [
      "336 ms ± 2.64 ms per loop (mean ± std. dev. of 20 runs, 15 loops each)\n"
     ]
    }
   ],
   "source": [
    "%%timeit -n15 -r20\n",
    "env = Env()\n",
    "env.reset()\n",
    "pool = ThreadPool(2)\n",
    "envs  = [deepcopy(env) for _ in range(N_GAMES)]\n",
    "data = pool.map(lambda x: agent.collect_data(x, T=T), envs)"
   ]
  },
  {
   "cell_type": "code",
   "execution_count": 11,
   "id": "d49ff556-922c-4ff4-8a5e-c5f2d4e7013e",
   "metadata": {},
   "outputs": [],
   "source": [
    "import numpy as np"
   ]
  },
  {
   "cell_type": "code",
   "execution_count": 44,
   "id": "a84dad01-cc24-47fa-af80-0f67cfbc066f",
   "metadata": {},
   "outputs": [],
   "source": [
    "t = 30\n",
    "discount = 1.0\n",
    "rewards = np.random.uniform(size=(t)).tolist()\n",
    "actions = np.random.uniform(size=(t)).tolist()\n",
    "action_masks = np.random.uniform(size=(t, 132)).tolist()\n",
    "bootstrapped_state_values = np.random.uniform(size=(t)).tolist()"
   ]
  },
  {
   "cell_type": "code",
   "execution_count": 45,
   "id": "954744dc-a482-489d-883d-ffb53daf04fa",
   "metadata": {},
   "outputs": [],
   "source": [
    "assert (t == len(rewards) == len(actions) == len(bootstrapped_state_values))\n",
    "reversed_value_targets = []\n",
    "reversed_advantages = []\n",
    "value = 0.\n",
    "for s in range(t):\n",
    "    value = rewards[t - s - 1] + discount * value\n",
    "    reversed_value_targets.append(value)\n",
    "    reversed_advantages.append(value - bootstrapped_state_values[t - s - 1])"
   ]
  },
  {
   "cell_type": "code",
   "execution_count": 46,
   "id": "a74fd01f-fac5-4206-b6d2-51cf5844650d",
   "metadata": {},
   "outputs": [],
   "source": [
    "assert (t == len(rewards) == len(actions) == len(bootstrapped_state_values))\n",
    "\n",
    "value = 0.\n",
    "all_rewards = []\n",
    "values = []\n",
    "advantages = []\n",
    "all_actions = []\n",
    "all_action_masks = []\n",
    "for s in range(t):\n",
    "    all_rewards.append(rewards[t - s - 1])\n",
    "    value = rewards[t - s - 1] + discount * value\n",
    "    values.append(value)\n",
    "    advantage = value - bootstrapped_state_values[t - s - 1]\n",
    "    advantages.append(advantage)\n",
    "    all_actions.append(actions[t - s - 1])\n",
    "    all_action_masks.append(action_masks[t - s - 1])"
   ]
  },
  {
   "cell_type": "code",
   "execution_count": 53,
   "id": "47babc3d-8edf-4ced-a824-989dad3e30a8",
   "metadata": {},
   "outputs": [],
   "source": [
    "assert values == reversed_value_targets\n",
    "assert advantages == reversed_advantages\n",
    "assert all_rewards[::-1] == rewards"
   ]
  },
  {
   "cell_type": "code",
   "execution_count": 56,
   "id": "3af277d1-cce9-4bc1-9c8a-a0daddf92aec",
   "metadata": {},
   "outputs": [
    {
     "data": {
      "text/plain": [
       "True"
      ]
     },
     "execution_count": 56,
     "metadata": {},
     "output_type": "execute_result"
    }
   ],
   "source": [
    "type(np.array([1, 2, 3])) == np.ndarray"
   ]
  },
  {
   "cell_type": "code",
   "execution_count": 57,
   "id": "c90556ed-1cc1-4ff7-8622-17ca83b0f513",
   "metadata": {},
   "outputs": [
    {
     "data": {
      "text/plain": [
       "False"
      ]
     },
     "execution_count": 57,
     "metadata": {},
     "output_type": "execute_result"
    }
   ],
   "source": [
    "type(np.array([1, 2, 3])) == np.array"
   ]
  },
  {
   "cell_type": "code",
   "execution_count": null,
   "id": "4ed714ba-4be5-4830-af95-65a45f077b3c",
   "metadata": {},
   "outputs": [],
   "source": []
  },
  {
   "cell_type": "code",
   "execution_count": 41,
   "id": "4cd6c7cd-b3d7-45e4-be68-ee4faad2a656",
   "metadata": {},
   "outputs": [
    {
     "data": {
      "text/plain": [
       "[0.635853817507843,\n",
       " 0.44521484561352576,\n",
       " 0.23877797788909838,\n",
       " 0.8520482631995127,\n",
       " 0.8552880424022111,\n",
       " 0.9677533035051455,\n",
       " 0.9499621470491301,\n",
       " 0.7465185482802892,\n",
       " 0.02106913440851399,\n",
       " 0.9777099483299123,\n",
       " 0.529360432710409,\n",
       " 0.10810423136647063,\n",
       " 0.24177793265530423,\n",
       " 0.7557356770267889,\n",
       " 0.07837662123565281,\n",
       " 0.24445739451823378,\n",
       " 0.06082527544226324,\n",
       " 0.7821811114146323,\n",
       " 0.9380938804148642,\n",
       " 0.5589552195221329,\n",
       " 0.08732523503985157,\n",
       " 0.8268912080411411,\n",
       " 0.6757952098737677,\n",
       " 0.2928408621380427,\n",
       " 0.7204799201718771,\n",
       " 0.6588402458716641,\n",
       " 0.29180737051434713,\n",
       " 0.055586198316447955,\n",
       " 0.2838405777148374,\n",
       " 0.15728747744118965]"
      ]
     },
     "execution_count": 41,
     "metadata": {},
     "output_type": "execute_result"
    }
   ],
   "source": [
    "rewards"
   ]
  },
  {
   "cell_type": "code",
   "execution_count": 43,
   "id": "f4a53d58-10d1-4d1f-8fbd-23cb72ff62c4",
   "metadata": {},
   "outputs": [
    {
     "data": {
      "text/plain": [
       "[0.635853817507843,\n",
       " 0.44521484561352576,\n",
       " 0.23877797788909838,\n",
       " 0.8520482631995127,\n",
       " 0.8552880424022111,\n",
       " 0.9677533035051455,\n",
       " 0.9499621470491301,\n",
       " 0.7465185482802892,\n",
       " 0.02106913440851399,\n",
       " 0.9777099483299123,\n",
       " 0.529360432710409,\n",
       " 0.10810423136647063,\n",
       " 0.24177793265530423,\n",
       " 0.7557356770267889,\n",
       " 0.07837662123565281,\n",
       " 0.24445739451823378,\n",
       " 0.06082527544226324,\n",
       " 0.7821811114146323,\n",
       " 0.9380938804148642,\n",
       " 0.5589552195221329,\n",
       " 0.08732523503985157,\n",
       " 0.8268912080411411,\n",
       " 0.6757952098737677,\n",
       " 0.2928408621380427,\n",
       " 0.7204799201718771,\n",
       " 0.6588402458716641,\n",
       " 0.29180737051434713,\n",
       " 0.055586198316447955,\n",
       " 0.2838405777148374,\n",
       " 0.15728747744118965]"
      ]
     },
     "execution_count": 43,
     "metadata": {},
     "output_type": "execute_result"
    }
   ],
   "source": [
    "all_rewards[::-1]"
   ]
  },
  {
   "cell_type": "code",
   "execution_count": null,
   "id": "9eb46fa2-4fdc-45f6-a60c-fc58f17f2ae8",
   "metadata": {},
   "outputs": [],
   "source": []
  },
  {
   "cell_type": "code",
   "execution_count": 47,
   "id": "ae7b09e8-b6aa-49ce-a1cd-eebd567ca192",
   "metadata": {},
   "outputs": [
    {
     "data": {
      "text/plain": [
       "[0.7942045582052102,\n",
       " 0.9419061569109328,\n",
       " 1.682318779006784,\n",
       " 2.3606379366838346,\n",
       " 3.3276174546425463,\n",
       " 3.354543021458425,\n",
       " 3.6243849432687423,\n",
       " 4.3048690500014875,\n",
       " 4.977310659138583,\n",
       " 5.065385982866573,\n",
       " 5.973637472714793,\n",
       " 6.376095173995536,\n",
       " 7.299867215336802,\n",
       " 7.635378623955518,\n",
       " 7.756462586476523,\n",
       " 8.24479770426585,\n",
       " 9.158132117029377,\n",
       " 9.857428428915778,\n",
       " 10.301420277930266,\n",
       " 10.787209731651204,\n",
       " 11.560996333757279,\n",
       " 12.353970826722254,\n",
       " 12.906607377100158,\n",
       " 13.374277848570008,\n",
       " 13.915457199469612,\n",
       " 13.925758516334371,\n",
       " 14.093474467180169,\n",
       " 14.941078313238835,\n",
       " 15.224136909432545,\n",
       " 15.829276833961378]"
      ]
     },
     "execution_count": 47,
     "metadata": {},
     "output_type": "execute_result"
    }
   ],
   "source": [
    "values"
   ]
  },
  {
   "cell_type": "code",
   "execution_count": 48,
   "id": "aa33f8a4-ad99-42e4-9f3a-6842eaba8357",
   "metadata": {},
   "outputs": [
    {
     "data": {
      "text/plain": [
       "[0.3477539930040401,\n",
       " 0.7191167240703181,\n",
       " 0.7244314023958224,\n",
       " 1.8353445711003273,\n",
       " 3.008307041848842,\n",
       " 2.842033593565865,\n",
       " 2.7014643349643594,\n",
       " 4.276612142582398,\n",
       " 4.414043471452351,\n",
       " 4.10076963136792,\n",
       " 5.904000612001189,\n",
       " 5.839087600920779,\n",
       " 6.769270410671908,\n",
       " 6.695187148653584,\n",
       " 6.788804271157968,\n",
       " 7.619855924122331,\n",
       " 8.537763465955718,\n",
       " 9.374559888919816,\n",
       " 10.166714281820065,\n",
       " 9.832368275894048,\n",
       " 11.526938813150199,\n",
       " 11.872516440691946,\n",
       " 12.539229015637567,\n",
       " 12.460587342202448,\n",
       " 13.22642663383443,\n",
       " 13.901897443432361,\n",
       " 13.88826828706658,\n",
       " 14.545548835717996,\n",
       " 14.816311487567274,\n",
       " 15.576701825970288]"
      ]
     },
     "execution_count": 48,
     "metadata": {},
     "output_type": "execute_result"
    }
   ],
   "source": [
    "reversed_advantages"
   ]
  },
  {
   "cell_type": "code",
   "execution_count": 49,
   "id": "ed9b057e-c138-413d-ac19-68844509d7f6",
   "metadata": {},
   "outputs": [
    {
     "data": {
      "text/plain": [
       "[0.3477539930040401,\n",
       " 0.7191167240703181,\n",
       " 0.7244314023958224,\n",
       " 1.8353445711003273,\n",
       " 3.008307041848842,\n",
       " 2.842033593565865,\n",
       " 2.7014643349643594,\n",
       " 4.276612142582398,\n",
       " 4.414043471452351,\n",
       " 4.10076963136792,\n",
       " 5.904000612001189,\n",
       " 5.839087600920779,\n",
       " 6.769270410671908,\n",
       " 6.695187148653584,\n",
       " 6.788804271157968,\n",
       " 7.619855924122331,\n",
       " 8.537763465955718,\n",
       " 9.374559888919816,\n",
       " 10.166714281820065,\n",
       " 9.832368275894048,\n",
       " 11.526938813150199,\n",
       " 11.872516440691946,\n",
       " 12.539229015637567,\n",
       " 12.460587342202448,\n",
       " 13.22642663383443,\n",
       " 13.901897443432361,\n",
       " 13.88826828706658,\n",
       " 14.545548835717996,\n",
       " 14.816311487567274,\n",
       " 15.576701825970288]"
      ]
     },
     "execution_count": 49,
     "metadata": {},
     "output_type": "execute_result"
    }
   ],
   "source": [
    "advantages"
   ]
  },
  {
   "cell_type": "code",
   "execution_count": null,
   "id": "abd3c258-7641-4ea0-bcfc-b96c8b47923b",
   "metadata": {},
   "outputs": [],
   "source": []
  },
  {
   "cell_type": "code",
   "execution_count": 50,
   "id": "5ad9e4b5-8ac8-43d7-abf3-a83e5839ac5c",
   "metadata": {},
   "outputs": [
    {
     "data": {
      "text/plain": [
       "[0.7942045582052102,\n",
       " 0.9419061569109328,\n",
       " 1.682318779006784,\n",
       " 2.3606379366838346,\n",
       " 3.3276174546425463,\n",
       " 3.354543021458425,\n",
       " 3.6243849432687423,\n",
       " 4.3048690500014875,\n",
       " 4.977310659138583,\n",
       " 5.065385982866573,\n",
       " 5.973637472714793,\n",
       " 6.376095173995536,\n",
       " 7.299867215336802,\n",
       " 7.635378623955518,\n",
       " 7.756462586476523,\n",
       " 8.24479770426585,\n",
       " 9.158132117029377,\n",
       " 9.857428428915778,\n",
       " 10.301420277930266,\n",
       " 10.787209731651204,\n",
       " 11.560996333757279,\n",
       " 12.353970826722254,\n",
       " 12.906607377100158,\n",
       " 13.374277848570008,\n",
       " 13.915457199469612,\n",
       " 13.925758516334371,\n",
       " 14.093474467180169,\n",
       " 14.941078313238835,\n",
       " 15.224136909432545,\n",
       " 15.829276833961378]"
      ]
     },
     "execution_count": 50,
     "metadata": {},
     "output_type": "execute_result"
    }
   ],
   "source": [
    "reversed_value_targets"
   ]
  },
  {
   "cell_type": "code",
   "execution_count": null,
   "id": "e7965b4f-39c2-4451-954e-f745530441d1",
   "metadata": {},
   "outputs": [],
   "source": []
  },
  {
   "cell_type": "code",
   "execution_count": null,
   "id": "19d86704-8b1b-4650-b7b3-9625d203f817",
   "metadata": {},
   "outputs": [],
   "source": []
  }
 ],
 "metadata": {
  "kernelspec": {
   "display_name": "Python 3 (ipykernel)",
   "language": "python",
   "name": "python3"
  },
  "language_info": {
   "codemirror_mode": {
    "name": "ipython",
    "version": 3
   },
   "file_extension": ".py",
   "mimetype": "text/x-python",
   "name": "python",
   "nbconvert_exporter": "python",
   "pygments_lexer": "ipython3",
   "version": "3.9.13"
  }
 },
 "nbformat": 4,
 "nbformat_minor": 5
}
